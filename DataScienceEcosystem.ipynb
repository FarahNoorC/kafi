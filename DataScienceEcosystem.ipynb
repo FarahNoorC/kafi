{
 "cells": [
  {
   "cell_type": "code",
   "execution_count": 27,
   "id": "00f4c20d-0ff4-4d9d-89fb-f89310609c9c",
   "metadata": {
    "tags": []
   },
   "outputs": [
    {
     "data": {
      "text/markdown": [
       "# Data Science Tools and Ecosystem"
      ],
      "text/plain": [
       "<IPython.core.display.Markdown object>"
      ]
     },
     "metadata": {},
     "output_type": "display_data"
    }
   ],
   "source": [
    "from IPython.display import Markdown\n",
    "\n",
    "title = '# Data Science Tools and Ecosystem'\n",
    "display(Markdown(title))\n",
    "# In this notebook, Data Science Tools and Ecosystem are summarized.\n",
    "\n",
    "# Add a new markdown cell below this one to list the objectives covered in this notebook.\n"
   ]
  },
  {
   "cell_type": "code",
   "execution_count": 23,
   "id": "81982cbf-88e8-42ca-b6c7-20832a6a6ee6",
   "metadata": {
    "tags": []
   },
   "outputs": [
    {
     "data": {
      "text/markdown": [
       "In this notebook, **Data Science Tools and Ecosystem** are summarized."
      ],
      "text/plain": [
       "<IPython.core.display.Markdown object>"
      ]
     },
     "metadata": {},
     "output_type": "display_data"
    }
   ],
   "source": [
    "from IPython.display import Markdown\n",
    "\n",
    "intro = \"In this notebook, **Data Science Tools and Ecosystem** are summarized.\"\n",
    "display(Markdown(intro))\n",
    "from IPython.display import Markdown\n"
   ]
  },
  {
   "cell_type": "code",
   "execution_count": 5,
   "id": "34b930a8-d92c-4bc4-abf9-ef0c82d3d28a",
   "metadata": {
    "tags": []
   },
   "outputs": [
    {
     "data": {
      "text/markdown": [
       "Some of the popular languages that Data Scientists use are:\n",
       "\n",
       "1. Python\n",
       "2. R\n",
       "3. SQL"
      ],
      "text/plain": [
       "<IPython.core.display.Markdown object>"
      ]
     },
     "metadata": {},
     "output_type": "display_data"
    }
   ],
   "source": [
    "from IPython.display import Markdown\n",
    "\n",
    "overview = 'Some of the popular languages that Data Scientists use are:'\n",
    "languages = ['Python', 'R', 'SQL']\n",
    "language_list = '\\n'.join([f\"{i}. {lang}\" for i, lang in enumerate(languages, 1)])\n",
    "markdown_text = f\"{overview}\\n\\n{language_list}\"\n",
    "\n",
    "display(Markdown(markdown_text))"
   ]
  },
  {
   "cell_type": "code",
   "execution_count": 6,
   "id": "fd56abc9-01be-46dc-8576-80377189be99",
   "metadata": {
    "tags": []
   },
   "outputs": [
    {
     "data": {
      "text/markdown": [
       "Some of the commonly used libraries used by Data Scientists include:\n",
       "\n",
       "1. Pandas\n",
       "2. NumPy\n",
       "3. Matplotlib"
      ],
      "text/plain": [
       "<IPython.core.display.Markdown object>"
      ]
     },
     "metadata": {},
     "output_type": "display_data"
    }
   ],
   "source": [
    "from IPython.display import Markdown\n",
    "\n",
    "overview = 'Some of the commonly used libraries used by Data Scientists include:'\n",
    "libraries = ['Pandas', 'NumPy', 'Matplotlib']\n",
    "library_list = '\\n'.join([f\"{i}. {lib}\" for i, lib in enumerate(libraries, 1)])\n",
    "markdown_text = f\"{overview}\\n\\n{library_list}\"\n",
    "\n",
    "display(Markdown(markdown_text))"
   ]
  },
  {
   "cell_type": "code",
   "execution_count": 7,
   "id": "e33ad22c-cf09-4407-a0a9-773580cfae54",
   "metadata": {
    "tags": []
   },
   "outputs": [
    {
     "data": {
      "text/markdown": [
       "| Data Science Tools |\n",
       "|--------------------|\n",
       "| Jupyter Notebook   |\n",
       "| Spyder             |\n",
       "| RStudio            |"
      ],
      "text/plain": [
       "<IPython.core.display.Markdown object>"
      ]
     },
     "metadata": {},
     "output_type": "display_data"
    }
   ],
   "source": [
    "from IPython.display import Markdown\n",
    "\n",
    "headers = \"| Data Science Tools |\\n|--------------------|\"\n",
    "tools = [\"| Jupyter Notebook   |\", \"| Spyder             |\", \"| RStudio            |\"]\n",
    "table = '\\n'.join([headers] + tools)\n",
    "markdown_text = f\"{table}\"\n",
    "\n",
    "display(Markdown(markdown_text))"
   ]
  },
  {
   "cell_type": "code",
   "execution_count": 8,
   "id": "fee54035-fdcb-4e27-9ef7-1211d401c176",
   "metadata": {
    "tags": []
   },
   "outputs": [
    {
     "data": {
      "text/markdown": [
       "### Below are a few examples of evaluating arithmetic expressions in Python."
      ],
      "text/plain": [
       "<IPython.core.display.Markdown object>"
      ]
     },
     "metadata": {},
     "output_type": "display_data"
    }
   ],
   "source": [
    "from IPython.display import Markdown\n",
    "\n",
    "heading = '### Below are a few examples of evaluating arithmetic expressions in Python.'\n",
    "markdown_text = f\"{heading}\"\n",
    "\n",
    "display(Markdown(markdown_text))"
   ]
  },
  {
   "cell_type": "code",
   "execution_count": 9,
   "id": "7c493bc6-dc0b-4533-95fc-6d3e1c522a4b",
   "metadata": {
    "tags": []
   },
   "outputs": [
    {
     "name": "stdout",
     "output_type": "stream",
     "text": [
      "17\n"
     ]
    }
   ],
   "source": [
    "# This is a simple arithmetic expression to multiply then add integers\n",
    "result = (3*4)+5\n",
    "print(result)"
   ]
  },
  {
   "cell_type": "code",
   "execution_count": 12,
   "id": "4c6d736c-8c77-431b-9bb9-9b959046c588",
   "metadata": {
    "tags": []
   },
   "outputs": [
    {
     "name": "stdout",
     "output_type": "stream",
     "text": [
      "3.33\n"
     ]
    }
   ],
   "source": [
    "# This will convert 200 minutes to hours by dividing by 60 and rounding to two decimal places\n",
    "result =round(200 / 60, 2)\n",
    "print(result)"
   ]
  },
  {
   "cell_type": "code",
   "execution_count": 25,
   "id": "815d3194-27f2-4bb7-925b-f145ef28e06e",
   "metadata": {
    "tags": []
   },
   "outputs": [
    {
     "data": {
      "text/markdown": [
       "In this notebook, **Data Science Tools and Ecosystem** are summarized."
      ],
      "text/plain": [
       "<IPython.core.display.Markdown object>"
      ]
     },
     "metadata": {},
     "output_type": "display_data"
    },
    {
     "data": {
      "text/markdown": [
       "Some of the popular languages that Data Scientists use are:\n",
       "\n",
       "1. Python\n",
       "2. R\n",
       "3. github"
      ],
      "text/plain": [
       "<IPython.core.display.Markdown object>"
      ]
     },
     "metadata": {},
     "output_type": "display_data"
    },
    {
     "data": {
      "text/markdown": [
       "\n",
       "**Objectives:**\n",
       "\n",
       "- List popular languages for Data Science.\n",
       "- Identify common libraries used in Data Science.\n",
       "- Discuss development environment tools for Data Science.\n",
       "- Demonstrate basic arithmetic operations in Python.\n",
       "- Convert between units of time in Python.\n"
      ],
      "text/plain": [
       "<IPython.core.display.Markdown object>"
      ]
     },
     "metadata": {},
     "output_type": "display_data"
    }
   ],
   "source": [
    "from IPython.display import Markdown\n",
    "\n",
    "intro = \"In this notebook, **Data Science Tools and Ecosystem** are summarized.\"\n",
    "display(Markdown(intro))\n",
    "from IPython.display import Markdown\n",
    "\n",
    "overview = 'Some of the popular languages that Data Scientists use are:'\n",
    "languages = ['Python', 'R', 'github']\n",
    "language_list = '\\n'.join([f\"{i}. {lang}\" for i, lang in enumerate(languages, 1)])\n",
    "markdown_text = f\"{overview}\\n\\n{language_list}\"\n",
    "\n",
    "display(Markdown(markdown_text))\n",
    "from IPython.display import Markdown\n",
    "\n",
    "# Define the markdown text\n",
    "markdown_text = '''\n",
    "**Objectives:**\n",
    "\n",
    "- List popular languages for Data Science.\n",
    "- Identify common libraries used in Data Science.\n",
    "- Discuss development environment tools for Data Science.\n",
    "- Demonstrate basic arithmetic operations in Python.\n",
    "- Convert between units of time in Python.\n",
    "'''\n",
    "\n",
    "# Display the markdown cell\n",
    "display(Markdown(markdown_text))\n"
   ]
  },
  {
   "cell_type": "code",
   "execution_count": 26,
   "id": "12485979-fe19-4f79-9147-0ac11de1f5d6",
   "metadata": {},
   "outputs": [
    {
     "data": {
      "text/markdown": [
       "## Author \n",
       " Farah Noor Chowfhury"
      ],
      "text/plain": [
       "<IPython.core.display.Markdown object>"
      ]
     },
     "metadata": {},
     "output_type": "display_data"
    }
   ],
   "source": [
    "## Author\n",
    "\n",
    "name = '## Author \\n Farah Noor Chowfhury'\n",
    "display(Markdown(name))"
   ]
  },
  {
   "cell_type": "code",
   "execution_count": null,
   "id": "6bfea113-ceda-4892-8267-fb5b6a07dab0",
   "metadata": {},
   "outputs": [],
   "source": []
  }
 ],
 "metadata": {
  "kernelspec": {
   "display_name": "Python",
   "language": "python",
   "name": "conda-env-python-py"
  },
  "language_info": {
   "codemirror_mode": {
    "name": "ipython",
    "version": 3
   },
   "file_extension": ".py",
   "mimetype": "text/x-python",
   "name": "python",
   "nbconvert_exporter": "python",
   "pygments_lexer": "ipython3",
   "version": "3.7.12"
  }
 },
 "nbformat": 4,
 "nbformat_minor": 5
}
